{
  "cells": [
    {
      "source": [
        "## 1. Concessão de cartão de crédito\n",
        "<p>Os bancos recebem <em>muitos</em> pedidos de cartões de crédito. Analisar manualmente essas solicitações é operacionalmente inviável, sujeito a erros e demorado. Felizmente, essa tarefa pode ser automatizada com o poder do <a href=\"https://medium.com/camilawaltrick/introducao-machine-learning-o-que-e-tipos-de-aprendizado-de-maquina-445dcfb708f0\">aprendizado de máquina</a> e praticamente todos os bancos fazem isso.\n",
        "Neste notebook, estarei construindo um modelo preditor para concessão de  cartão de crédito. Todas as etapas estão bem descritas, em formato de tutorial.</p>\n",
        "\n",
        "<p>Será utilizado o <a href=\"http://archive.ics.uci.edu/ml/datasets/credit+approval\">conjunto de dados Credit Card Approval</a> do repositório UCI Machine Learning. A estrutura deste notebook é a seguinte:</p>\n",
        "<ul>\n",
        "<li>Primeiro, começaremos carregando e visualizando o conjunto de dados.</li>\n",
        "<li>Veremos que o conjunto de dados tem uma mistura de recursos numéricos e não numéricos, que contém valores de diferentes intervalos, além de várias entradas ausentes.</li>\n",
        "<li>Teremos que pré-processar o conjunto de dados para garantir que o modelo de aprendizado de máquina que escolhemos possa fazer boas previsões.</li>\n",
        "<li>Por fim, criaremos um modelo de aprendizado de máquina que pode prever se a solicitação de cartão de crédito de um indivíduo será aceita.</li>\n",
        "</ul>"
      ],
      "metadata": {
        "dc": {
          "key": "3"
        },
        "run_control": {
          "frozen": true
        },
        "tags": [
          "context"
        ],
        "id": "9879216a-6b57-45af-9eb3-a552b64dd422"
      },
      "id": "9879216a-6b57-45af-9eb3-a552b64dd422",
      "cell_type": "markdown"
    },
    {
      "source": [
        "# Bibliotecas\n",
        "import pandas as pd\n",
        "import numpy as np\n",
        "from sklearn.model_selection import train_test_split\n",
        "from sklearn.preprocessing import MinMaxScaler\n",
        "from sklearn.linear_model import LogisticRegression\n",
        "from sklearn.metrics import confusion_matrix\n",
        "from sklearn.model_selection import GridSearchCV"
      ],
      "metadata": {
        "executionCancelledAt": null,
        "executionTime": 497,
        "lastExecutedAt": 1691780216351,
        "lastScheduledRunId": null,
        "lastSuccessfullyExecutedCode": "# Bibliotecas\nimport pandas as pd\nimport numpy as np\nfrom sklearn.model_selection import train_test_split\nfrom sklearn.preprocessing import MinMaxScaler\nfrom sklearn.linear_model import LogisticRegression\nfrom sklearn.metrics import confusion_matrix\nfrom sklearn.model_selection import GridSearchCV",
        "id": "4e06d98b-4c71-48ba-b0c7-7196db0a2729"
      },
      "cell_type": "code",
      "id": "4e06d98b-4c71-48ba-b0c7-7196db0a2729",
      "execution_count": null,
      "outputs": []
    },
    {
      "source": [
        "# Carregar e checar o dataset\n",
        "cc_apr = pd.read_csv(\"/content/crx.data\", header=None)\n",
        "cc_apr.head()"
      ],
      "metadata": {
        "dc": {
          "key": "3"
        },
        "tags": [
          "sample_code"
        ],
        "trusted": true,
        "executionCancelledAt": null,
        "executionTime": 46,
        "lastExecutedAt": 1691780216399,
        "lastScheduledRunId": null,
        "lastSuccessfullyExecutedCode": "# Carregar e checar o dataset\ncc_apps = pd.read_csv(\"datasets/cc_approvals.data\", header=None)\ncc_apps.head()",
        "outputsMetadata": {
          "0": {
            "height": 194,
            "type": "dataFrame"
          }
        },
        "colab": {
          "base_uri": "https://localhost:8080/",
          "height": 206
        },
        "id": "f986ff3d-83af-427c-b998-b649f8f01c51",
        "outputId": "04e63d5b-0be9-4071-9ec0-ae0f1f679f23"
      },
      "id": "f986ff3d-83af-427c-b998-b649f8f01c51",
      "cell_type": "code",
      "execution_count": null,
      "outputs": [
        {
          "output_type": "execute_result",
          "data": {
            "text/plain": [
              "  0      1      2  3  4  5  6     7  8  9   10 11 12     13   14 15\n",
              "0  b  30.83  0.000  u  g  w  v  1.25  t  t   1  f  g  00202    0  +\n",
              "1  a  58.67  4.460  u  g  q  h  3.04  t  t   6  f  g  00043  560  +\n",
              "2  a  24.50  0.500  u  g  q  h  1.50  t  f   0  f  g  00280  824  +\n",
              "3  b  27.83  1.540  u  g  w  v  3.75  t  t   5  t  g  00100    3  +\n",
              "4  b  20.17  5.625  u  g  w  v  1.71  t  f   0  f  s  00120    0  +"
            ],
            "text/html": [
              "\n",
              "\n",
              "  <div id=\"df-e5fb7ce7-6ed7-49ca-b25c-fec3a8156bfd\">\n",
              "    <div class=\"colab-df-container\">\n",
              "      <div>\n",
              "<style scoped>\n",
              "    .dataframe tbody tr th:only-of-type {\n",
              "        vertical-align: middle;\n",
              "    }\n",
              "\n",
              "    .dataframe tbody tr th {\n",
              "        vertical-align: top;\n",
              "    }\n",
              "\n",
              "    .dataframe thead th {\n",
              "        text-align: right;\n",
              "    }\n",
              "</style>\n",
              "<table border=\"1\" class=\"dataframe\">\n",
              "  <thead>\n",
              "    <tr style=\"text-align: right;\">\n",
              "      <th></th>\n",
              "      <th>0</th>\n",
              "      <th>1</th>\n",
              "      <th>2</th>\n",
              "      <th>3</th>\n",
              "      <th>4</th>\n",
              "      <th>5</th>\n",
              "      <th>6</th>\n",
              "      <th>7</th>\n",
              "      <th>8</th>\n",
              "      <th>9</th>\n",
              "      <th>10</th>\n",
              "      <th>11</th>\n",
              "      <th>12</th>\n",
              "      <th>13</th>\n",
              "      <th>14</th>\n",
              "      <th>15</th>\n",
              "    </tr>\n",
              "  </thead>\n",
              "  <tbody>\n",
              "    <tr>\n",
              "      <th>0</th>\n",
              "      <td>b</td>\n",
              "      <td>30.83</td>\n",
              "      <td>0.000</td>\n",
              "      <td>u</td>\n",
              "      <td>g</td>\n",
              "      <td>w</td>\n",
              "      <td>v</td>\n",
              "      <td>1.25</td>\n",
              "      <td>t</td>\n",
              "      <td>t</td>\n",
              "      <td>1</td>\n",
              "      <td>f</td>\n",
              "      <td>g</td>\n",
              "      <td>00202</td>\n",
              "      <td>0</td>\n",
              "      <td>+</td>\n",
              "    </tr>\n",
              "    <tr>\n",
              "      <th>1</th>\n",
              "      <td>a</td>\n",
              "      <td>58.67</td>\n",
              "      <td>4.460</td>\n",
              "      <td>u</td>\n",
              "      <td>g</td>\n",
              "      <td>q</td>\n",
              "      <td>h</td>\n",
              "      <td>3.04</td>\n",
              "      <td>t</td>\n",
              "      <td>t</td>\n",
              "      <td>6</td>\n",
              "      <td>f</td>\n",
              "      <td>g</td>\n",
              "      <td>00043</td>\n",
              "      <td>560</td>\n",
              "      <td>+</td>\n",
              "    </tr>\n",
              "    <tr>\n",
              "      <th>2</th>\n",
              "      <td>a</td>\n",
              "      <td>24.50</td>\n",
              "      <td>0.500</td>\n",
              "      <td>u</td>\n",
              "      <td>g</td>\n",
              "      <td>q</td>\n",
              "      <td>h</td>\n",
              "      <td>1.50</td>\n",
              "      <td>t</td>\n",
              "      <td>f</td>\n",
              "      <td>0</td>\n",
              "      <td>f</td>\n",
              "      <td>g</td>\n",
              "      <td>00280</td>\n",
              "      <td>824</td>\n",
              "      <td>+</td>\n",
              "    </tr>\n",
              "    <tr>\n",
              "      <th>3</th>\n",
              "      <td>b</td>\n",
              "      <td>27.83</td>\n",
              "      <td>1.540</td>\n",
              "      <td>u</td>\n",
              "      <td>g</td>\n",
              "      <td>w</td>\n",
              "      <td>v</td>\n",
              "      <td>3.75</td>\n",
              "      <td>t</td>\n",
              "      <td>t</td>\n",
              "      <td>5</td>\n",
              "      <td>t</td>\n",
              "      <td>g</td>\n",
              "      <td>00100</td>\n",
              "      <td>3</td>\n",
              "      <td>+</td>\n",
              "    </tr>\n",
              "    <tr>\n",
              "      <th>4</th>\n",
              "      <td>b</td>\n",
              "      <td>20.17</td>\n",
              "      <td>5.625</td>\n",
              "      <td>u</td>\n",
              "      <td>g</td>\n",
              "      <td>w</td>\n",
              "      <td>v</td>\n",
              "      <td>1.71</td>\n",
              "      <td>t</td>\n",
              "      <td>f</td>\n",
              "      <td>0</td>\n",
              "      <td>f</td>\n",
              "      <td>s</td>\n",
              "      <td>00120</td>\n",
              "      <td>0</td>\n",
              "      <td>+</td>\n",
              "    </tr>\n",
              "  </tbody>\n",
              "</table>\n",
              "</div>\n",
              "      <button class=\"colab-df-convert\" onclick=\"convertToInteractive('df-e5fb7ce7-6ed7-49ca-b25c-fec3a8156bfd')\"\n",
              "              title=\"Convert this dataframe to an interactive table.\"\n",
              "              style=\"display:none;\">\n",
              "\n",
              "  <svg xmlns=\"http://www.w3.org/2000/svg\" height=\"24px\"viewBox=\"0 0 24 24\"\n",
              "       width=\"24px\">\n",
              "    <path d=\"M0 0h24v24H0V0z\" fill=\"none\"/>\n",
              "    <path d=\"M18.56 5.44l.94 2.06.94-2.06 2.06-.94-2.06-.94-.94-2.06-.94 2.06-2.06.94zm-11 1L8.5 8.5l.94-2.06 2.06-.94-2.06-.94L8.5 2.5l-.94 2.06-2.06.94zm10 10l.94 2.06.94-2.06 2.06-.94-2.06-.94-.94-2.06-.94 2.06-2.06.94z\"/><path d=\"M17.41 7.96l-1.37-1.37c-.4-.4-.92-.59-1.43-.59-.52 0-1.04.2-1.43.59L10.3 9.45l-7.72 7.72c-.78.78-.78 2.05 0 2.83L4 21.41c.39.39.9.59 1.41.59.51 0 1.02-.2 1.41-.59l7.78-7.78 2.81-2.81c.8-.78.8-2.07 0-2.86zM5.41 20L4 18.59l7.72-7.72 1.47 1.35L5.41 20z\"/>\n",
              "  </svg>\n",
              "      </button>\n",
              "\n",
              "\n",
              "\n",
              "    <div id=\"df-826a32e5-1b9b-4249-a00a-b8994bcdaa0e\">\n",
              "      <button class=\"colab-df-quickchart\" onclick=\"quickchart('df-826a32e5-1b9b-4249-a00a-b8994bcdaa0e')\"\n",
              "              title=\"Suggest charts.\"\n",
              "              style=\"display:none;\">\n",
              "\n",
              "<svg xmlns=\"http://www.w3.org/2000/svg\" height=\"24px\"viewBox=\"0 0 24 24\"\n",
              "     width=\"24px\">\n",
              "    <g>\n",
              "        <path d=\"M19 3H5c-1.1 0-2 .9-2 2v14c0 1.1.9 2 2 2h14c1.1 0 2-.9 2-2V5c0-1.1-.9-2-2-2zM9 17H7v-7h2v7zm4 0h-2V7h2v10zm4 0h-2v-4h2v4z\"/>\n",
              "    </g>\n",
              "</svg>\n",
              "      </button>\n",
              "    </div>\n",
              "\n",
              "<style>\n",
              "  .colab-df-quickchart {\n",
              "    background-color: #E8F0FE;\n",
              "    border: none;\n",
              "    border-radius: 50%;\n",
              "    cursor: pointer;\n",
              "    display: none;\n",
              "    fill: #1967D2;\n",
              "    height: 32px;\n",
              "    padding: 0 0 0 0;\n",
              "    width: 32px;\n",
              "  }\n",
              "\n",
              "  .colab-df-quickchart:hover {\n",
              "    background-color: #E2EBFA;\n",
              "    box-shadow: 0px 1px 2px rgba(60, 64, 67, 0.3), 0px 1px 3px 1px rgba(60, 64, 67, 0.15);\n",
              "    fill: #174EA6;\n",
              "  }\n",
              "\n",
              "  [theme=dark] .colab-df-quickchart {\n",
              "    background-color: #3B4455;\n",
              "    fill: #D2E3FC;\n",
              "  }\n",
              "\n",
              "  [theme=dark] .colab-df-quickchart:hover {\n",
              "    background-color: #434B5C;\n",
              "    box-shadow: 0px 1px 3px 1px rgba(0, 0, 0, 0.15);\n",
              "    filter: drop-shadow(0px 1px 2px rgba(0, 0, 0, 0.3));\n",
              "    fill: #FFFFFF;\n",
              "  }\n",
              "</style>\n",
              "\n",
              "    <script>\n",
              "      async function quickchart(key) {\n",
              "        const containerElement = document.querySelector('#' + key);\n",
              "        const charts = await google.colab.kernel.invokeFunction(\n",
              "            'suggestCharts', [key], {});\n",
              "      }\n",
              "    </script>\n",
              "\n",
              "      <script>\n",
              "\n",
              "function displayQuickchartButton(domScope) {\n",
              "  let quickchartButtonEl =\n",
              "    domScope.querySelector('#df-826a32e5-1b9b-4249-a00a-b8994bcdaa0e button.colab-df-quickchart');\n",
              "  quickchartButtonEl.style.display =\n",
              "    google.colab.kernel.accessAllowed ? 'block' : 'none';\n",
              "}\n",
              "\n",
              "        displayQuickchartButton(document);\n",
              "      </script>\n",
              "      <style>\n",
              "    .colab-df-container {\n",
              "      display:flex;\n",
              "      flex-wrap:wrap;\n",
              "      gap: 12px;\n",
              "    }\n",
              "\n",
              "    .colab-df-convert {\n",
              "      background-color: #E8F0FE;\n",
              "      border: none;\n",
              "      border-radius: 50%;\n",
              "      cursor: pointer;\n",
              "      display: none;\n",
              "      fill: #1967D2;\n",
              "      height: 32px;\n",
              "      padding: 0 0 0 0;\n",
              "      width: 32px;\n",
              "    }\n",
              "\n",
              "    .colab-df-convert:hover {\n",
              "      background-color: #E2EBFA;\n",
              "      box-shadow: 0px 1px 2px rgba(60, 64, 67, 0.3), 0px 1px 3px 1px rgba(60, 64, 67, 0.15);\n",
              "      fill: #174EA6;\n",
              "    }\n",
              "\n",
              "    [theme=dark] .colab-df-convert {\n",
              "      background-color: #3B4455;\n",
              "      fill: #D2E3FC;\n",
              "    }\n",
              "\n",
              "    [theme=dark] .colab-df-convert:hover {\n",
              "      background-color: #434B5C;\n",
              "      box-shadow: 0px 1px 3px 1px rgba(0, 0, 0, 0.15);\n",
              "      filter: drop-shadow(0px 1px 2px rgba(0, 0, 0, 0.3));\n",
              "      fill: #FFFFFF;\n",
              "    }\n",
              "  </style>\n",
              "\n",
              "      <script>\n",
              "        const buttonEl =\n",
              "          document.querySelector('#df-e5fb7ce7-6ed7-49ca-b25c-fec3a8156bfd button.colab-df-convert');\n",
              "        buttonEl.style.display =\n",
              "          google.colab.kernel.accessAllowed ? 'block' : 'none';\n",
              "\n",
              "        async function convertToInteractive(key) {\n",
              "          const element = document.querySelector('#df-e5fb7ce7-6ed7-49ca-b25c-fec3a8156bfd');\n",
              "          const dataTable =\n",
              "            await google.colab.kernel.invokeFunction('convertToInteractive',\n",
              "                                                     [key], {});\n",
              "          if (!dataTable) return;\n",
              "\n",
              "          const docLinkHtml = 'Like what you see? Visit the ' +\n",
              "            '<a target=\"_blank\" href=https://colab.research.google.com/notebooks/data_table.ipynb>data table notebook</a>'\n",
              "            + ' to learn more about interactive tables.';\n",
              "          element.innerHTML = '';\n",
              "          dataTable['output_type'] = 'display_data';\n",
              "          await google.colab.output.renderOutput(dataTable, element);\n",
              "          const docLink = document.createElement('div');\n",
              "          docLink.innerHTML = docLinkHtml;\n",
              "          element.appendChild(docLink);\n",
              "        }\n",
              "      </script>\n",
              "    </div>\n",
              "  </div>\n"
            ]
          },
          "metadata": {},
          "execution_count": 20
        }
      ]
    },
    {
      "source": [
        "**Ao  carregar e visualizar o conjunto de dados, vemos que os dados são confidenciais, pois os nomes das variáveis foram anonimizados.**"
      ],
      "metadata": {
        "id": "8a97a7f1-3ada-4d01-ad97-9ce2994ee799"
      },
      "cell_type": "markdown",
      "id": "8a97a7f1-3ada-4d01-ad97-9ce2994ee799"
    },
    {
      "source": [
        "## 2. Conferindo os dados\n",
        "<p>A ausência de rótulos descritivos para as colunas pode parecer um pouco confuso à primeira vista, mas pesquisando sobre esse dataset, foi encontrado <a href=\"http://rstudio-pubs-static.s3.amazonaws.com/73039_9946de135c0a49daa7a0a9eda4a67a72.html\">este blog</a> que dá uma boa visão geral dos possíveis rótulos. Seguindo a ordem que se apresentam, temos as colunas <code>Gender</code>, <code>Age</code>, <code>Debt</code>, <code>Married</code>, <code>BankCustomer</code>, <code>EducationLevel</code>, <code>Ethnicity</code>, <code>YearsEmployed</code>, <code>PriorDefault</code>, <code>Employed</code>, <code>CreditScore</code>, <code>DriversLicense</code>, <code>Citizen</code>, <code>ZipCode</code>, <code>Income</code> e <code>ApprovalStatus</code>. Isso nos dá um bom ponto de partida e podemos mapear esses recursos em relação às colunas na saída. </p>\n",
        "<p>Como podemos ver em nossa primeira olhada nos dados, o conjunto de dados tem uma mistura de variáveis numéricas e não numéricas. Isso pode ser corrigido com algum pré-processamento, mas antes de fazermos isso, vamos aprender um pouco mais sobre o conjunto de dados para ver se há outros problemas de conjunto de dados que precisam ser corrigidos.</p>"
      ],
      "metadata": {
        "dc": {
          "key": "10"
        },
        "run_control": {
          "frozen": true
        },
        "tags": [
          "context"
        ],
        "id": "bdb43890-4d3e-40e3-80c7-3476a0fdb788"
      },
      "id": "bdb43890-4d3e-40e3-80c7-3476a0fdb788",
      "cell_type": "markdown"
    },
    {
      "source": [
        "# Resumo estatístico\n",
        "cc_apr_desc = cc_apr.describe()\n",
        "print(cc_apr_desc)\n",
        "\n",
        "print('\\n')\n",
        "\n",
        "# Infos do conjuntod e dados\n",
        "cc_apr_info = cc_apr.info()\n",
        "print(cc_apr_info)\n",
        "\n",
        "print('\\n')\n",
        "\n",
        "# Inspecionar valores ausentes no conjunto de dados\n",
        "cc_apr.tail(17)"
      ],
      "metadata": {
        "dc": {
          "key": "10"
        },
        "tags": [
          "sample_code"
        ],
        "trusted": true,
        "outputsMetadata": {
          "0": {
            "height": 616,
            "type": "stream"
          },
          "1": {
            "height": 316,
            "type": "dataFrame"
          }
        },
        "executionCancelledAt": null,
        "executionTime": 148,
        "lastExecutedAt": 1691780216547,
        "lastScheduledRunId": null,
        "lastSuccessfullyExecutedCode": "# Resumo estatístico\ncc_apps_description = cc_apps.describe()\nprint(cc_apps_description)\n\nprint('\\n')\n\n# Infos do conjuntod e dados\ncc_apps_info = cc_apps.info()\nprint(cc_apps_info)\n\nprint('\\n')\n\n# Inspecionar valores ausentes no conjunto de dados\ncc_apps.tail(17)",
        "colab": {
          "base_uri": "https://localhost:8080/",
          "height": 1000
        },
        "id": "7743a7d9-0917-4ea7-94eb-9448eaf34a07",
        "outputId": "0c29309d-a9aa-4417-a5d2-476039f170b3"
      },
      "id": "7743a7d9-0917-4ea7-94eb-9448eaf34a07",
      "cell_type": "code",
      "execution_count": null,
      "outputs": [
        {
          "output_type": "stream",
          "name": "stdout",
          "text": [
            "               2           7          10             14\n",
            "count  690.000000  690.000000  690.00000     690.000000\n",
            "mean     4.758725    2.223406    2.40000    1017.385507\n",
            "std      4.978163    3.346513    4.86294    5210.102598\n",
            "min      0.000000    0.000000    0.00000       0.000000\n",
            "25%      1.000000    0.165000    0.00000       0.000000\n",
            "50%      2.750000    1.000000    0.00000       5.000000\n",
            "75%      7.207500    2.625000    3.00000     395.500000\n",
            "max     28.000000   28.500000   67.00000  100000.000000\n",
            "\n",
            "\n",
            "<class 'pandas.core.frame.DataFrame'>\n",
            "RangeIndex: 690 entries, 0 to 689\n",
            "Data columns (total 16 columns):\n",
            " #   Column  Non-Null Count  Dtype  \n",
            "---  ------  --------------  -----  \n",
            " 0   0       690 non-null    object \n",
            " 1   1       690 non-null    object \n",
            " 2   2       690 non-null    float64\n",
            " 3   3       690 non-null    object \n",
            " 4   4       690 non-null    object \n",
            " 5   5       690 non-null    object \n",
            " 6   6       690 non-null    object \n",
            " 7   7       690 non-null    float64\n",
            " 8   8       690 non-null    object \n",
            " 9   9       690 non-null    object \n",
            " 10  10      690 non-null    int64  \n",
            " 11  11      690 non-null    object \n",
            " 12  12      690 non-null    object \n",
            " 13  13      690 non-null    object \n",
            " 14  14      690 non-null    int64  \n",
            " 15  15      690 non-null    object \n",
            "dtypes: float64(2), int64(2), object(12)\n",
            "memory usage: 86.4+ KB\n",
            "None\n",
            "\n",
            "\n"
          ]
        },
        {
          "output_type": "execute_result",
          "data": {
            "text/plain": [
              "    0      1       2  3  4   5   6      7  8  9   10 11 12     13   14 15\n",
              "673  ?  29.50   2.000  y  p   e   h  2.000  f  f   0  f  g  00256   17  -\n",
              "674  a  37.33   2.500  u  g   i   h  0.210  f  f   0  f  g  00260  246  -\n",
              "675  a  41.58   1.040  u  g  aa   v  0.665  f  f   0  f  g  00240  237  -\n",
              "676  a  30.58  10.665  u  g   q   h  0.085  f  t  12  t  g  00129    3  -\n",
              "677  b  19.42   7.250  u  g   m   v  0.040  f  t   1  f  g  00100    1  -\n",
              "678  a  17.92  10.210  u  g  ff  ff  0.000  f  f   0  f  g  00000   50  -\n",
              "679  a  20.08   1.250  u  g   c   v  0.000  f  f   0  f  g  00000    0  -\n",
              "680  b  19.50   0.290  u  g   k   v  0.290  f  f   0  f  g  00280  364  -\n",
              "681  b  27.83   1.000  y  p   d   h  3.000  f  f   0  f  g  00176  537  -\n",
              "682  b  17.08   3.290  u  g   i   v  0.335  f  f   0  t  g  00140    2  -\n",
              "683  b  36.42   0.750  y  p   d   v  0.585  f  f   0  f  g  00240    3  -\n",
              "684  b  40.58   3.290  u  g   m   v  3.500  f  f   0  t  s  00400    0  -\n",
              "685  b  21.08  10.085  y  p   e   h  1.250  f  f   0  f  g  00260    0  -\n",
              "686  a  22.67   0.750  u  g   c   v  2.000  f  t   2  t  g  00200  394  -\n",
              "687  a  25.25  13.500  y  p  ff  ff  2.000  f  t   1  t  g  00200    1  -\n",
              "688  b  17.92   0.205  u  g  aa   v  0.040  f  f   0  f  g  00280  750  -\n",
              "689  b  35.00   3.375  u  g   c   h  8.290  f  f   0  t  g  00000    0  -"
            ],
            "text/html": [
              "\n",
              "\n",
              "  <div id=\"df-9e337c03-6a62-4a25-96bb-90f60f75f11e\">\n",
              "    <div class=\"colab-df-container\">\n",
              "      <div>\n",
              "<style scoped>\n",
              "    .dataframe tbody tr th:only-of-type {\n",
              "        vertical-align: middle;\n",
              "    }\n",
              "\n",
              "    .dataframe tbody tr th {\n",
              "        vertical-align: top;\n",
              "    }\n",
              "\n",
              "    .dataframe thead th {\n",
              "        text-align: right;\n",
              "    }\n",
              "</style>\n",
              "<table border=\"1\" class=\"dataframe\">\n",
              "  <thead>\n",
              "    <tr style=\"text-align: right;\">\n",
              "      <th></th>\n",
              "      <th>0</th>\n",
              "      <th>1</th>\n",
              "      <th>2</th>\n",
              "      <th>3</th>\n",
              "      <th>4</th>\n",
              "      <th>5</th>\n",
              "      <th>6</th>\n",
              "      <th>7</th>\n",
              "      <th>8</th>\n",
              "      <th>9</th>\n",
              "      <th>10</th>\n",
              "      <th>11</th>\n",
              "      <th>12</th>\n",
              "      <th>13</th>\n",
              "      <th>14</th>\n",
              "      <th>15</th>\n",
              "    </tr>\n",
              "  </thead>\n",
              "  <tbody>\n",
              "    <tr>\n",
              "      <th>673</th>\n",
              "      <td>?</td>\n",
              "      <td>29.50</td>\n",
              "      <td>2.000</td>\n",
              "      <td>y</td>\n",
              "      <td>p</td>\n",
              "      <td>e</td>\n",
              "      <td>h</td>\n",
              "      <td>2.000</td>\n",
              "      <td>f</td>\n",
              "      <td>f</td>\n",
              "      <td>0</td>\n",
              "      <td>f</td>\n",
              "      <td>g</td>\n",
              "      <td>00256</td>\n",
              "      <td>17</td>\n",
              "      <td>-</td>\n",
              "    </tr>\n",
              "    <tr>\n",
              "      <th>674</th>\n",
              "      <td>a</td>\n",
              "      <td>37.33</td>\n",
              "      <td>2.500</td>\n",
              "      <td>u</td>\n",
              "      <td>g</td>\n",
              "      <td>i</td>\n",
              "      <td>h</td>\n",
              "      <td>0.210</td>\n",
              "      <td>f</td>\n",
              "      <td>f</td>\n",
              "      <td>0</td>\n",
              "      <td>f</td>\n",
              "      <td>g</td>\n",
              "      <td>00260</td>\n",
              "      <td>246</td>\n",
              "      <td>-</td>\n",
              "    </tr>\n",
              "    <tr>\n",
              "      <th>675</th>\n",
              "      <td>a</td>\n",
              "      <td>41.58</td>\n",
              "      <td>1.040</td>\n",
              "      <td>u</td>\n",
              "      <td>g</td>\n",
              "      <td>aa</td>\n",
              "      <td>v</td>\n",
              "      <td>0.665</td>\n",
              "      <td>f</td>\n",
              "      <td>f</td>\n",
              "      <td>0</td>\n",
              "      <td>f</td>\n",
              "      <td>g</td>\n",
              "      <td>00240</td>\n",
              "      <td>237</td>\n",
              "      <td>-</td>\n",
              "    </tr>\n",
              "    <tr>\n",
              "      <th>676</th>\n",
              "      <td>a</td>\n",
              "      <td>30.58</td>\n",
              "      <td>10.665</td>\n",
              "      <td>u</td>\n",
              "      <td>g</td>\n",
              "      <td>q</td>\n",
              "      <td>h</td>\n",
              "      <td>0.085</td>\n",
              "      <td>f</td>\n",
              "      <td>t</td>\n",
              "      <td>12</td>\n",
              "      <td>t</td>\n",
              "      <td>g</td>\n",
              "      <td>00129</td>\n",
              "      <td>3</td>\n",
              "      <td>-</td>\n",
              "    </tr>\n",
              "    <tr>\n",
              "      <th>677</th>\n",
              "      <td>b</td>\n",
              "      <td>19.42</td>\n",
              "      <td>7.250</td>\n",
              "      <td>u</td>\n",
              "      <td>g</td>\n",
              "      <td>m</td>\n",
              "      <td>v</td>\n",
              "      <td>0.040</td>\n",
              "      <td>f</td>\n",
              "      <td>t</td>\n",
              "      <td>1</td>\n",
              "      <td>f</td>\n",
              "      <td>g</td>\n",
              "      <td>00100</td>\n",
              "      <td>1</td>\n",
              "      <td>-</td>\n",
              "    </tr>\n",
              "    <tr>\n",
              "      <th>678</th>\n",
              "      <td>a</td>\n",
              "      <td>17.92</td>\n",
              "      <td>10.210</td>\n",
              "      <td>u</td>\n",
              "      <td>g</td>\n",
              "      <td>ff</td>\n",
              "      <td>ff</td>\n",
              "      <td>0.000</td>\n",
              "      <td>f</td>\n",
              "      <td>f</td>\n",
              "      <td>0</td>\n",
              "      <td>f</td>\n",
              "      <td>g</td>\n",
              "      <td>00000</td>\n",
              "      <td>50</td>\n",
              "      <td>-</td>\n",
              "    </tr>\n",
              "    <tr>\n",
              "      <th>679</th>\n",
              "      <td>a</td>\n",
              "      <td>20.08</td>\n",
              "      <td>1.250</td>\n",
              "      <td>u</td>\n",
              "      <td>g</td>\n",
              "      <td>c</td>\n",
              "      <td>v</td>\n",
              "      <td>0.000</td>\n",
              "      <td>f</td>\n",
              "      <td>f</td>\n",
              "      <td>0</td>\n",
              "      <td>f</td>\n",
              "      <td>g</td>\n",
              "      <td>00000</td>\n",
              "      <td>0</td>\n",
              "      <td>-</td>\n",
              "    </tr>\n",
              "    <tr>\n",
              "      <th>680</th>\n",
              "      <td>b</td>\n",
              "      <td>19.50</td>\n",
              "      <td>0.290</td>\n",
              "      <td>u</td>\n",
              "      <td>g</td>\n",
              "      <td>k</td>\n",
              "      <td>v</td>\n",
              "      <td>0.290</td>\n",
              "      <td>f</td>\n",
              "      <td>f</td>\n",
              "      <td>0</td>\n",
              "      <td>f</td>\n",
              "      <td>g</td>\n",
              "      <td>00280</td>\n",
              "      <td>364</td>\n",
              "      <td>-</td>\n",
              "    </tr>\n",
              "    <tr>\n",
              "      <th>681</th>\n",
              "      <td>b</td>\n",
              "      <td>27.83</td>\n",
              "      <td>1.000</td>\n",
              "      <td>y</td>\n",
              "      <td>p</td>\n",
              "      <td>d</td>\n",
              "      <td>h</td>\n",
              "      <td>3.000</td>\n",
              "      <td>f</td>\n",
              "      <td>f</td>\n",
              "      <td>0</td>\n",
              "      <td>f</td>\n",
              "      <td>g</td>\n",
              "      <td>00176</td>\n",
              "      <td>537</td>\n",
              "      <td>-</td>\n",
              "    </tr>\n",
              "    <tr>\n",
              "      <th>682</th>\n",
              "      <td>b</td>\n",
              "      <td>17.08</td>\n",
              "      <td>3.290</td>\n",
              "      <td>u</td>\n",
              "      <td>g</td>\n",
              "      <td>i</td>\n",
              "      <td>v</td>\n",
              "      <td>0.335</td>\n",
              "      <td>f</td>\n",
              "      <td>f</td>\n",
              "      <td>0</td>\n",
              "      <td>t</td>\n",
              "      <td>g</td>\n",
              "      <td>00140</td>\n",
              "      <td>2</td>\n",
              "      <td>-</td>\n",
              "    </tr>\n",
              "    <tr>\n",
              "      <th>683</th>\n",
              "      <td>b</td>\n",
              "      <td>36.42</td>\n",
              "      <td>0.750</td>\n",
              "      <td>y</td>\n",
              "      <td>p</td>\n",
              "      <td>d</td>\n",
              "      <td>v</td>\n",
              "      <td>0.585</td>\n",
              "      <td>f</td>\n",
              "      <td>f</td>\n",
              "      <td>0</td>\n",
              "      <td>f</td>\n",
              "      <td>g</td>\n",
              "      <td>00240</td>\n",
              "      <td>3</td>\n",
              "      <td>-</td>\n",
              "    </tr>\n",
              "    <tr>\n",
              "      <th>684</th>\n",
              "      <td>b</td>\n",
              "      <td>40.58</td>\n",
              "      <td>3.290</td>\n",
              "      <td>u</td>\n",
              "      <td>g</td>\n",
              "      <td>m</td>\n",
              "      <td>v</td>\n",
              "      <td>3.500</td>\n",
              "      <td>f</td>\n",
              "      <td>f</td>\n",
              "      <td>0</td>\n",
              "      <td>t</td>\n",
              "      <td>s</td>\n",
              "      <td>00400</td>\n",
              "      <td>0</td>\n",
              "      <td>-</td>\n",
              "    </tr>\n",
              "    <tr>\n",
              "      <th>685</th>\n",
              "      <td>b</td>\n",
              "      <td>21.08</td>\n",
              "      <td>10.085</td>\n",
              "      <td>y</td>\n",
              "      <td>p</td>\n",
              "      <td>e</td>\n",
              "      <td>h</td>\n",
              "      <td>1.250</td>\n",
              "      <td>f</td>\n",
              "      <td>f</td>\n",
              "      <td>0</td>\n",
              "      <td>f</td>\n",
              "      <td>g</td>\n",
              "      <td>00260</td>\n",
              "      <td>0</td>\n",
              "      <td>-</td>\n",
              "    </tr>\n",
              "    <tr>\n",
              "      <th>686</th>\n",
              "      <td>a</td>\n",
              "      <td>22.67</td>\n",
              "      <td>0.750</td>\n",
              "      <td>u</td>\n",
              "      <td>g</td>\n",
              "      <td>c</td>\n",
              "      <td>v</td>\n",
              "      <td>2.000</td>\n",
              "      <td>f</td>\n",
              "      <td>t</td>\n",
              "      <td>2</td>\n",
              "      <td>t</td>\n",
              "      <td>g</td>\n",
              "      <td>00200</td>\n",
              "      <td>394</td>\n",
              "      <td>-</td>\n",
              "    </tr>\n",
              "    <tr>\n",
              "      <th>687</th>\n",
              "      <td>a</td>\n",
              "      <td>25.25</td>\n",
              "      <td>13.500</td>\n",
              "      <td>y</td>\n",
              "      <td>p</td>\n",
              "      <td>ff</td>\n",
              "      <td>ff</td>\n",
              "      <td>2.000</td>\n",
              "      <td>f</td>\n",
              "      <td>t</td>\n",
              "      <td>1</td>\n",
              "      <td>t</td>\n",
              "      <td>g</td>\n",
              "      <td>00200</td>\n",
              "      <td>1</td>\n",
              "      <td>-</td>\n",
              "    </tr>\n",
              "    <tr>\n",
              "      <th>688</th>\n",
              "      <td>b</td>\n",
              "      <td>17.92</td>\n",
              "      <td>0.205</td>\n",
              "      <td>u</td>\n",
              "      <td>g</td>\n",
              "      <td>aa</td>\n",
              "      <td>v</td>\n",
              "      <td>0.040</td>\n",
              "      <td>f</td>\n",
              "      <td>f</td>\n",
              "      <td>0</td>\n",
              "      <td>f</td>\n",
              "      <td>g</td>\n",
              "      <td>00280</td>\n",
              "      <td>750</td>\n",
              "      <td>-</td>\n",
              "    </tr>\n",
              "    <tr>\n",
              "      <th>689</th>\n",
              "      <td>b</td>\n",
              "      <td>35.00</td>\n",
              "      <td>3.375</td>\n",
              "      <td>u</td>\n",
              "      <td>g</td>\n",
              "      <td>c</td>\n",
              "      <td>h</td>\n",
              "      <td>8.290</td>\n",
              "      <td>f</td>\n",
              "      <td>f</td>\n",
              "      <td>0</td>\n",
              "      <td>t</td>\n",
              "      <td>g</td>\n",
              "      <td>00000</td>\n",
              "      <td>0</td>\n",
              "      <td>-</td>\n",
              "    </tr>\n",
              "  </tbody>\n",
              "</table>\n",
              "</div>\n",
              "      <button class=\"colab-df-convert\" onclick=\"convertToInteractive('df-9e337c03-6a62-4a25-96bb-90f60f75f11e')\"\n",
              "              title=\"Convert this dataframe to an interactive table.\"\n",
              "              style=\"display:none;\">\n",
              "\n",
              "  <svg xmlns=\"http://www.w3.org/2000/svg\" height=\"24px\"viewBox=\"0 0 24 24\"\n",
              "       width=\"24px\">\n",
              "    <path d=\"M0 0h24v24H0V0z\" fill=\"none\"/>\n",
              "    <path d=\"M18.56 5.44l.94 2.06.94-2.06 2.06-.94-2.06-.94-.94-2.06-.94 2.06-2.06.94zm-11 1L8.5 8.5l.94-2.06 2.06-.94-2.06-.94L8.5 2.5l-.94 2.06-2.06.94zm10 10l.94 2.06.94-2.06 2.06-.94-2.06-.94-.94-2.06-.94 2.06-2.06.94z\"/><path d=\"M17.41 7.96l-1.37-1.37c-.4-.4-.92-.59-1.43-.59-.52 0-1.04.2-1.43.59L10.3 9.45l-7.72 7.72c-.78.78-.78 2.05 0 2.83L4 21.41c.39.39.9.59 1.41.59.51 0 1.02-.2 1.41-.59l7.78-7.78 2.81-2.81c.8-.78.8-2.07 0-2.86zM5.41 20L4 18.59l7.72-7.72 1.47 1.35L5.41 20z\"/>\n",
              "  </svg>\n",
              "      </button>\n",
              "\n",
              "\n",
              "\n",
              "    <div id=\"df-9191784f-212e-418f-be35-61a023528086\">\n",
              "      <button class=\"colab-df-quickchart\" onclick=\"quickchart('df-9191784f-212e-418f-be35-61a023528086')\"\n",
              "              title=\"Suggest charts.\"\n",
              "              style=\"display:none;\">\n",
              "\n",
              "<svg xmlns=\"http://www.w3.org/2000/svg\" height=\"24px\"viewBox=\"0 0 24 24\"\n",
              "     width=\"24px\">\n",
              "    <g>\n",
              "        <path d=\"M19 3H5c-1.1 0-2 .9-2 2v14c0 1.1.9 2 2 2h14c1.1 0 2-.9 2-2V5c0-1.1-.9-2-2-2zM9 17H7v-7h2v7zm4 0h-2V7h2v10zm4 0h-2v-4h2v4z\"/>\n",
              "    </g>\n",
              "</svg>\n",
              "      </button>\n",
              "    </div>\n",
              "\n",
              "<style>\n",
              "  .colab-df-quickchart {\n",
              "    background-color: #E8F0FE;\n",
              "    border: none;\n",
              "    border-radius: 50%;\n",
              "    cursor: pointer;\n",
              "    display: none;\n",
              "    fill: #1967D2;\n",
              "    height: 32px;\n",
              "    padding: 0 0 0 0;\n",
              "    width: 32px;\n",
              "  }\n",
              "\n",
              "  .colab-df-quickchart:hover {\n",
              "    background-color: #E2EBFA;\n",
              "    box-shadow: 0px 1px 2px rgba(60, 64, 67, 0.3), 0px 1px 3px 1px rgba(60, 64, 67, 0.15);\n",
              "    fill: #174EA6;\n",
              "  }\n",
              "\n",
              "  [theme=dark] .colab-df-quickchart {\n",
              "    background-color: #3B4455;\n",
              "    fill: #D2E3FC;\n",
              "  }\n",
              "\n",
              "  [theme=dark] .colab-df-quickchart:hover {\n",
              "    background-color: #434B5C;\n",
              "    box-shadow: 0px 1px 3px 1px rgba(0, 0, 0, 0.15);\n",
              "    filter: drop-shadow(0px 1px 2px rgba(0, 0, 0, 0.3));\n",
              "    fill: #FFFFFF;\n",
              "  }\n",
              "</style>\n",
              "\n",
              "    <script>\n",
              "      async function quickchart(key) {\n",
              "        const containerElement = document.querySelector('#' + key);\n",
              "        const charts = await google.colab.kernel.invokeFunction(\n",
              "            'suggestCharts', [key], {});\n",
              "      }\n",
              "    </script>\n",
              "\n",
              "      <script>\n",
              "\n",
              "function displayQuickchartButton(domScope) {\n",
              "  let quickchartButtonEl =\n",
              "    domScope.querySelector('#df-9191784f-212e-418f-be35-61a023528086 button.colab-df-quickchart');\n",
              "  quickchartButtonEl.style.display =\n",
              "    google.colab.kernel.accessAllowed ? 'block' : 'none';\n",
              "}\n",
              "\n",
              "        displayQuickchartButton(document);\n",
              "      </script>\n",
              "      <style>\n",
              "    .colab-df-container {\n",
              "      display:flex;\n",
              "      flex-wrap:wrap;\n",
              "      gap: 12px;\n",
              "    }\n",
              "\n",
              "    .colab-df-convert {\n",
              "      background-color: #E8F0FE;\n",
              "      border: none;\n",
              "      border-radius: 50%;\n",
              "      cursor: pointer;\n",
              "      display: none;\n",
              "      fill: #1967D2;\n",
              "      height: 32px;\n",
              "      padding: 0 0 0 0;\n",
              "      width: 32px;\n",
              "    }\n",
              "\n",
              "    .colab-df-convert:hover {\n",
              "      background-color: #E2EBFA;\n",
              "      box-shadow: 0px 1px 2px rgba(60, 64, 67, 0.3), 0px 1px 3px 1px rgba(60, 64, 67, 0.15);\n",
              "      fill: #174EA6;\n",
              "    }\n",
              "\n",
              "    [theme=dark] .colab-df-convert {\n",
              "      background-color: #3B4455;\n",
              "      fill: #D2E3FC;\n",
              "    }\n",
              "\n",
              "    [theme=dark] .colab-df-convert:hover {\n",
              "      background-color: #434B5C;\n",
              "      box-shadow: 0px 1px 3px 1px rgba(0, 0, 0, 0.15);\n",
              "      filter: drop-shadow(0px 1px 2px rgba(0, 0, 0, 0.3));\n",
              "      fill: #FFFFFF;\n",
              "    }\n",
              "  </style>\n",
              "\n",
              "      <script>\n",
              "        const buttonEl =\n",
              "          document.querySelector('#df-9e337c03-6a62-4a25-96bb-90f60f75f11e button.colab-df-convert');\n",
              "        buttonEl.style.display =\n",
              "          google.colab.kernel.accessAllowed ? 'block' : 'none';\n",
              "\n",
              "        async function convertToInteractive(key) {\n",
              "          const element = document.querySelector('#df-9e337c03-6a62-4a25-96bb-90f60f75f11e');\n",
              "          const dataTable =\n",
              "            await google.colab.kernel.invokeFunction('convertToInteractive',\n",
              "                                                     [key], {});\n",
              "          if (!dataTable) return;\n",
              "\n",
              "          const docLinkHtml = 'Like what you see? Visit the ' +\n",
              "            '<a target=\"_blank\" href=https://colab.research.google.com/notebooks/data_table.ipynb>data table notebook</a>'\n",
              "            + ' to learn more about interactive tables.';\n",
              "          element.innerHTML = '';\n",
              "          dataTable['output_type'] = 'display_data';\n",
              "          await google.colab.output.renderOutput(dataTable, element);\n",
              "          const docLink = document.createElement('div');\n",
              "          docLink.innerHTML = docLinkHtml;\n",
              "          element.appendChild(docLink);\n",
              "        }\n",
              "      </script>\n",
              "    </div>\n",
              "  </div>\n"
            ]
          },
          "metadata": {},
          "execution_count": 21
        }
      ]
    },
    {
      "source": [
        "## 3. Dividindo o conjunto de dados em conjuntos de treinamento e teste\n",
        "<p>Agora, dividiremos nossos dados em conjunto de treinamento e conjunto de teste para preparar nossos dados para duas fases diferentes da modelagem de aprendizado de máquina: treinamento e teste. Idealmente, nenhuma informação dos dados de teste deve ser usada para pré-processar os dados de treinamento ou deve ser usada para direcionar o processo de treinamento de um modelo de aprendizado de máquina. Portanto, primeiro dividimos os dados e depois os pré-processamos.</p>\n",
        "<p>Além disso, recursos como <code>DriversLicense</code> e <code>ZipCode</code> não são tão importantes quanto os outros recursos no conjunto de dados para prever aprovações de cartão de crédito. Para ter uma noção melhor, podemos medir sua <a href=\"https://realpython.com/numpy-scipy-pandas-correlation-python/\">correlação estatística</a> com os rótulos do conjunto de dados. Mas isso está fora do escopo deste projeto. Devemos excluí-los para projetar nosso modelo de aprendizado de máquina com o melhor conjunto de recursos. Na literatura de ciência de dados, isso costuma ser chamado de <em>seleção de recursos (feature engineering)</em>. </p>"
      ],
      "metadata": {
        "dc": {
          "key": "17"
        },
        "run_control": {
          "frozen": true
        },
        "tags": [
          "context"
        ],
        "id": "bfb05bd7-db78-4096-a406-fb08622b18ef"
      },
      "id": "bfb05bd7-db78-4096-a406-fb08622b18ef",
      "cell_type": "markdown"
    },
    {
      "source": [
        "# Excluir variáveis 11 e 13\n",
        "cc_apr = cc_apr.drop([11, 13], axis=1)\n",
        "\n",
        "# Dividir em conjuntos de treinamento e teste\n",
        "cc_apr_treino, cc_apr_teste = train_test_split(cc_apr, test_size=0.33, random_state=42)"
      ],
      "metadata": {
        "dc": {
          "key": "17"
        },
        "tags": [
          "sample_code"
        ],
        "collapsed": true,
        "jupyter": {
          "outputs_hidden": true
        },
        "trusted": true,
        "executionCancelledAt": null,
        "executionTime": 50,
        "lastExecutedAt": 1691780216597,
        "lastScheduledRunId": null,
        "lastSuccessfullyExecutedCode": "# Excluir variáveis 11 e 13\ncc_apps = cc_apps.drop([11, 13], axis=1)\n\n# Dividir em conjuntos de treinamento e teste\ncc_apps_train, cc_apps_test = train_test_split(cc_apps, test_size=0.33, random_state=42)",
        "id": "e7498dee-58c4-4b1e-aa19-02f3577c0ecf"
      },
      "id": "e7498dee-58c4-4b1e-aa19-02f3577c0ecf",
      "cell_type": "code",
      "execution_count": null,
      "outputs": []
    },
    {
      "source": [
        "## 4. Manipulando os valores ausentes (parte i)\n",
        "<p>Agora que dividimos nossos dados, podemos lidar com alguns dos problemas que identificamos ao inspecionar o DataFrame, incluindo:</p>\n",
        "<ul>\n",
        "<li>Nosso conjunto de dados contém dados numéricos e não numéricos (especificamente dados que são dos tipos <code>float64</code>, <code>int64</code> e <code>object</code>). Especificamente, os recursos 2, 7, 10 e 14 contêm valores numéricos (dos tipos float64, float64, int64 e int64, respectivamente) e todos os outros recursos contêm valores não numéricos.</li>\n",
        "<li>O conjunto de dados também contém valores de vários intervalos. Alguns recursos têm um intervalo de valores de 0 a 28, alguns têm um intervalo de 2 a 67 e alguns têm um intervalo de 1017 a 100000. Além disso, podemos obter informações estatísticas úteis (como <code>mean</code> , <code>max</code> e <code>min</code>) sobre os recursos que possuem valores numéricos. </li>\n",
        "<li>Finalmente, o conjunto de dados tem valores ausentes, dos quais cuidaremos nesta etapa. Os valores ausentes no conjunto de dados são rotulados com '?'.</li>\n",
        "</ul>\n",
        "<p>Agora, vamos substituir temporariamente esses pontos de interrogação de valores ausentes por NaN.</p>"
      ],
      "metadata": {
        "dc": {
          "key": "24"
        },
        "run_control": {
          "frozen": true
        },
        "tags": [
          "context"
        ],
        "id": "ed350662-d823-4a9c-9f09-7c35abe493ef"
      },
      "id": "ed350662-d823-4a9c-9f09-7c35abe493ef",
      "cell_type": "markdown"
    },
    {
      "source": [
        "# Substituir os '?'s por NaN nos conjuntos de treinamento e teste\n",
        "cc_apr_treino = cc_apr_treino.replace('?', np.NaN)\n",
        "cc_apr_teste = cc_apr_teste.replace('?', np.NaN)"
      ],
      "metadata": {
        "dc": {
          "key": "24"
        },
        "tags": [
          "sample_code"
        ],
        "collapsed": true,
        "jupyter": {
          "outputs_hidden": true
        },
        "trusted": true,
        "executionCancelledAt": null,
        "executionTime": 47,
        "lastExecutedAt": 1691780216645,
        "lastScheduledRunId": null,
        "lastSuccessfullyExecutedCode": "# Substituir os '?'s por NaN nos conjuntos de treinamento e teste\ncc_apps_train = cc_apps_train.replace('?', np.NaN)\ncc_apps_test = cc_apps_test.replace('?', np.NaN)",
        "id": "cea80a83-6e95-4cec-a872-f230581b18a3"
      },
      "id": "cea80a83-6e95-4cec-a872-f230581b18a3",
      "cell_type": "code",
      "execution_count": null,
      "outputs": []
    },
    {
      "source": [
        "## 5. Manipulando os valores ausentes (parte ii)\n",
        "<p>Substituímos todos os pontos de interrogação por NaNs. Isso vai nos ajudar no próximo tratamento de valor ausente que vamos realizar.</p>\n",
        "<p>Uma questão importante levantada aqui é <em>por que estamos dando tanta importância aos valores ausentes</em>? Eles não podem ser simplesmente ignorados? Ignorar os valores ausentes pode afetar fortemente o desempenho de um modelo de aprendizado de máquina. Ao ignorar os valores ausentes, nosso modelo de aprendizado de máquina pode perder informações sobre o conjunto de dados que podem ser úteis para seu treinamento. Então, existem muitos modelos que não podem lidar com valores ausentes implicitamente, como a Análise Discriminante Linear (LDA). </p>\n",
        "<p>Então, para evitar esse problema, vamos imputar os valores ausentes com uma estratégia chamada imputação média.</p>"
      ],
      "metadata": {
        "dc": {
          "key": "31"
        },
        "run_control": {
          "frozen": true
        },
        "tags": [
          "context"
        ],
        "id": "a79357d9-aa4c-4894-b9be-61b211605bfd"
      },
      "id": "a79357d9-aa4c-4894-b9be-61b211605bfd",
      "cell_type": "markdown"
    },
    {
      "source": [
        "# Atribuir os valores ausentes com imputação média\n",
        "cc_apr_treino.fillna(cc_apr_treino.mean(), inplace=True)\n",
        "cc_apr_teste.fillna(cc_apr_treino.mean(), inplace=True)\n",
        "\n",
        "# Contar o número de NaNs nos conjuntos de dados e imprimir as contagens para verificar\n",
        "print(cc_apr_treino.isnull().sum())\n",
        "print(cc_apr_teste.isnull().sum())"
      ],
      "metadata": {
        "dc": {
          "key": "31"
        },
        "tags": [
          "sample_code"
        ],
        "trusted": true,
        "outputsMetadata": {
          "0": {
            "height": 602,
            "type": "stream"
          }
        },
        "executionCancelledAt": null,
        "executionTime": 49,
        "lastExecutedAt": 1691780216695,
        "lastScheduledRunId": null,
        "lastSuccessfullyExecutedCode": "# Atribuir os valores ausentes com imputação média\ncc_apps_train.fillna(cc_apps_train.mean(), inplace=True)\ncc_apps_test.fillna(cc_apps_train.mean(), inplace=True)\n\n# Contar o número de NaNs nos conjuntos de dados e imprimir as contagens para verificar\nprint(cc_apps_train.isnull().sum())\nprint(cc_apps_test.isnull().sum())",
        "colab": {
          "base_uri": "https://localhost:8080/"
        },
        "id": "0593366a-4179-4fa2-a187-0151bc05e9c4",
        "outputId": "913c79ea-df66-49b7-bd1e-e78b37cf728b"
      },
      "id": "0593366a-4179-4fa2-a187-0151bc05e9c4",
      "cell_type": "code",
      "execution_count": null,
      "outputs": [
        {
          "output_type": "stream",
          "name": "stdout",
          "text": [
            "0     8\n",
            "1     5\n",
            "2     0\n",
            "3     6\n",
            "4     6\n",
            "5     7\n",
            "6     7\n",
            "7     0\n",
            "8     0\n",
            "9     0\n",
            "10    0\n",
            "12    0\n",
            "14    0\n",
            "15    0\n",
            "dtype: int64\n",
            "0     4\n",
            "1     7\n",
            "2     0\n",
            "3     0\n",
            "4     0\n",
            "5     2\n",
            "6     2\n",
            "7     0\n",
            "8     0\n",
            "9     0\n",
            "10    0\n",
            "12    0\n",
            "14    0\n",
            "15    0\n",
            "dtype: int64\n"
          ]
        },
        {
          "output_type": "stream",
          "name": "stderr",
          "text": [
            "<ipython-input-24-6221ce57fdb7>:2: FutureWarning: The default value of numeric_only in DataFrame.mean is deprecated. In a future version, it will default to False. In addition, specifying 'numeric_only=None' is deprecated. Select only valid columns or specify the value of numeric_only to silence this warning.\n",
            "  cc_apr_treino.fillna(cc_apr_treino.mean(), inplace=True)\n",
            "<ipython-input-24-6221ce57fdb7>:3: FutureWarning: The default value of numeric_only in DataFrame.mean is deprecated. In a future version, it will default to False. In addition, specifying 'numeric_only=None' is deprecated. Select only valid columns or specify the value of numeric_only to silence this warning.\n",
            "  cc_apr_teste.fillna(cc_apr_treino.mean(), inplace=True)\n"
          ]
        }
      ]
    },
    {
      "source": [
        "## 6. Manipulando os valores ausentes (parte iii)\n",
        "<p>Resolvemos com sucesso os valores ausentes presentes nas colunas numéricas. Ainda faltam alguns valores a serem imputados para as colunas 0, 1, 3, 4, 5, 6 e 13. Todas essas colunas contêm dados não numéricos e é por isso que a estratégia de imputação média não funcionaria aqui. Isso precisa de um tratamento diferente. </p>\n",
        "<p>Iremos imputar esses valores ausentes com os valores mais frequentes presentes nas respectivas colunas. Esta é uma <a href=\"https://www.datacamp.com/community/tutorials/categorical-data\">boa prática</a> quando se trata de imputar valores ausentes para dados categóricos em geral.</p>"
      ],
      "metadata": {
        "dc": {
          "key": "38"
        },
        "run_control": {
          "frozen": true
        },
        "tags": [
          "context"
        ],
        "id": "0ae3192b-eae4-4bd3-a2bb-58452bea88be"
      },
      "id": "0ae3192b-eae4-4bd3-a2bb-58452bea88be",
      "cell_type": "markdown"
    },
    {
      "source": [
        "# Contar o número de NaNs nos conjuntos de dados e imprimir as contagens para verificar\n",
        "\n",
        "for col in cc_apr_treino.columns:\n",
        "    # Verificar se a coluna é do tipo objeto\n",
        "    if cc_apr_treino[col].dtypes == 'object':\n",
        "        # Atribuir com o valor mais frequente\n",
        "        cc_apr_treino = cc_apr_treino.fillna(cc_apr_treino[col].value_counts().index[0])\n",
        "        cc_apr_teste = cc_apr_teste.fillna(cc_apr_treino[col].value_counts().index[0])\n",
        "\n",
        "print(cc_apr_treino.isnull().sum())\n",
        "print(cc_apr_teste.isnull().sum())"
      ],
      "metadata": {
        "dc": {
          "key": "38"
        },
        "tags": [
          "sample_code"
        ],
        "trusted": true,
        "outputsMetadata": {
          "0": {
            "height": 602,
            "type": "stream"
          }
        },
        "executionCancelledAt": null,
        "executionTime": 49,
        "lastExecutedAt": 1691780216744,
        "lastScheduledRunId": null,
        "lastSuccessfullyExecutedCode": "# Contar o número de NaNs nos conjuntos de dados e imprimir as contagens para verificar\n\nfor col in cc_apps_train.columns:\n    # Verificar se a coluna é do tipo objeto\n    if cc_apps_train[col].dtypes == 'object':\n        # Atribuir com o valor mais frequente\n        cc_apps_train = cc_apps_train.fillna(cc_apps_train[col].value_counts().index[0])\n        cc_apps_test = cc_apps_test.fillna(cc_apps_train[col].value_counts().index[0])\n\nprint(cc_apps_train.isnull().sum())\nprint(cc_apps_test.isnull().sum())",
        "colab": {
          "base_uri": "https://localhost:8080/"
        },
        "id": "c1ddd074-e821-4518-84ea-3925a90400e9",
        "outputId": "991fa025-651e-4b28-97da-766a37d9b836"
      },
      "id": "c1ddd074-e821-4518-84ea-3925a90400e9",
      "cell_type": "code",
      "execution_count": null,
      "outputs": [
        {
          "output_type": "stream",
          "name": "stdout",
          "text": [
            "0     0\n",
            "1     0\n",
            "2     0\n",
            "3     0\n",
            "4     0\n",
            "5     0\n",
            "6     0\n",
            "7     0\n",
            "8     0\n",
            "9     0\n",
            "10    0\n",
            "12    0\n",
            "14    0\n",
            "15    0\n",
            "dtype: int64\n",
            "0     0\n",
            "1     0\n",
            "2     0\n",
            "3     0\n",
            "4     0\n",
            "5     0\n",
            "6     0\n",
            "7     0\n",
            "8     0\n",
            "9     0\n",
            "10    0\n",
            "12    0\n",
            "14    0\n",
            "15    0\n",
            "dtype: int64\n"
          ]
        }
      ]
    },
    {
      "source": [
        "## 7. Pré-processando os dados (parte i)\n",
        "<p>Os valores ausentes agora estão tratados com sucesso.</p>\n",
        "<p>Ainda é necessário um pré-processamento de dados menor, mas essencial, antes de prosseguirmos para a construção de nosso modelo de aprendizado de máquina. Vamos dividir essas etapas de pré-processamento restantes em duas tarefas principais:</p>\n",
        "<ol>\n",
        "<li>Converter os dados não numéricos em numéricos.</li>\n",
        "<li>Padronizar os valores dos recursos para um intervalo uniforme.</li>\n",
        "</ol>\n",
        "<p>Primeiro, converteremos todos os valores não numéricos em numéricos. Fazemos isso porque não apenas resulta em uma computação mais rápida, mas também porque muitos modelos de aprendizado de máquina (como o XGBoost) - e especialmente os desenvolvidos usando o scikit-learn, exigem que os dados estejam em um formato estritamente numérico. Faremos isso usando o método <code>get_dummies()</code> dos pandas.</p>"
      ],
      "metadata": {
        "dc": {
          "key": "45"
        },
        "run_control": {
          "frozen": true
        },
        "tags": [
          "context"
        ],
        "id": "d4bef039-30c9-412a-97c9-357566b8b518"
      },
      "id": "d4bef039-30c9-412a-97c9-357566b8b518",
      "cell_type": "markdown"
    },
    {
      "source": [
        "# Converter os recursos categóricos nos conjuntos de treinamento e teste de forma independente\n",
        "cc_apr_treino = pd.get_dummies(cc_apr_treino)\n",
        "cc_apr_teste = pd.get_dummies(cc_apr_teste)\n",
        "\n",
        "# Reindexar as colunas do conjunto de teste alinhando com o conjunto de treinamento\n",
        "cc_apr_teste = cc_apr_teste.reindex(columns=cc_apr_treino.columns, fill_value=0)"
      ],
      "metadata": {
        "dc": {
          "key": "45"
        },
        "tags": [
          "sample_code"
        ],
        "collapsed": true,
        "jupyter": {
          "outputs_hidden": true
        },
        "trusted": true,
        "executionCancelledAt": null,
        "executionTime": 49,
        "lastExecutedAt": 1691780216793,
        "lastScheduledRunId": null,
        "lastSuccessfullyExecutedCode": "# Converter os recursos categóricos nos conjuntos de treinamento e teste de forma independente\ncc_apps_train = pd.get_dummies(cc_apps_train)\ncc_apps_test = pd.get_dummies(cc_apps_test)\n\n# Reindexar as colunas do conjunto de teste alinhando com o conjunto de treinamento\ncc_apps_test = cc_apps_test.reindex(columns=cc_apps_train.columns, fill_value=0)",
        "id": "ecdf3445-7f96-4cf1-bb22-4d91caafcb69"
      },
      "id": "ecdf3445-7f96-4cf1-bb22-4d91caafcb69",
      "cell_type": "code",
      "execution_count": null,
      "outputs": []
    },
    {
      "source": [
        "## 8. Pré-processamento dos dados (parte ii)\n",
        "<p>Agora, resta apenas uma etapa final de pré-processamento de dimensionamento antes de podermos ajustar um modelo de aprendizado de máquina aos dados. </p>\n",
        "<p>Agora, vamos tentar entender o que esses valores padronizados significam no mundo real. Vamos usar <code>CreditScore</code> como exemplo. A pontuação de crédito de uma pessoa é sua credibilidade com base em seu histórico de crédito. Quanto maior esse número, mais confiável financeiramente uma pessoa é considerada. Assim, um <code>CreditScore</code> de 1 é o mais alto, pois estamos redimensionando todos os valores para o intervalo de 0-1.</p>"
      ],
      "metadata": {
        "dc": {
          "key": "52"
        },
        "run_control": {
          "frozen": true
        },
        "tags": [
          "context"
        ],
        "id": "9c4b8dae-c403-4238-b403-d92dc03bd3bb"
      },
      "id": "9c4b8dae-c403-4238-b403-d92dc03bd3bb",
      "cell_type": "markdown"
    },
    {
      "source": [
        "# Separar recursos e label em variáveis distintas\n",
        "X_treino, y_treino = cc_apr_treino.iloc[:, :-1].values, cc_apr_treino.iloc[:, [-1]].values\n",
        "X_teste, y_teste = cc_apr_teste.iloc[:, :-1].values, cc_apr_teste.iloc[:, [-1]].values\n",
        "\n",
        "# Instanciar MinMaxScaler e redimensionar X_treino e X_teste\n",
        "scaler = MinMaxScaler(feature_range=(0, 1))\n",
        "rescaledX_treino = scaler.fit_transform(X_treino)\n",
        "rescaledX_teste = scaler.transform(X_teste)"
      ],
      "metadata": {
        "dc": {
          "key": "52"
        },
        "tags": [
          "sample_code"
        ],
        "collapsed": true,
        "jupyter": {
          "outputs_hidden": true
        },
        "trusted": true,
        "executionCancelledAt": null,
        "executionTime": 47,
        "lastExecutedAt": 1691780216841,
        "lastScheduledRunId": null,
        "lastSuccessfullyExecutedCode": "# Separar recursos e label em variáveis distintas\nX_train, y_train = cc_apps_train.iloc[:, :-1].values, cc_apps_train.iloc[:, [-1]].values\nX_test, y_test = cc_apps_test.iloc[:, :-1].values, cc_apps_test.iloc[:, [-1]].values\n\n# Instanciar MinMaxScaler e redimensionar X_train e X_test\nscaler = MinMaxScaler(feature_range=(0, 1))\nrescaledX_train = scaler.fit_transform(X_train)\nrescaledX_test = scaler.transform(X_test)",
        "id": "3cc56500-90e2-497f-a0f0-9908fa13d559"
      },
      "id": "3cc56500-90e2-497f-a0f0-9908fa13d559",
      "cell_type": "code",
      "execution_count": null,
      "outputs": []
    },
    {
      "source": [
        "## 9. Ajustando um modelo de regressão logística ao conjunto de treino\n",
        "<p>Essencialmente, prever se um pedido de cartão de crédito será aprovado ou não é uma tarefa de <a href=\"https://en.wikipedia.org/wiki/Statistical_classification\">classificação</a>. De acordo com a UCI, nosso conjunto de dados contém mais instâncias que correspondem ao status \"Negado\" do que instâncias correspondentes ao status \"Aprovado\". Especificamente, de 690 instâncias, 383 (55,5%) solicitações foram negadas e 307 (44,5%) solicitações foram aprovadas. </p>\n",
        "<p>Isso nos dá uma referência. Um bom modelo de aprendizado de máquina deve ser capaz de prever com precisão o status dos pedidos em relação a essas estatísticas.</p>\n",
        "<p>Qual modelo devemos escolher? Uma pergunta a ser feita é: <em>os recursos que afetam o processo de decisão de aprovação de cartão de crédito estão correlacionados entre si?</em> Embora possamos medir a correlação, isso está fora do escopo deste notebook, portanto, vamos supor que eles realmente estão correlacionados por enquanto. Devido a essa correlação, aproveitaremos o fato de que os modelos lineares generalizados funcionam bem nesses casos. Vamos começar nossa modelagem de aprendizado de máquina com um modelo de regressão logística (um modelo linear generalizado).</p>"
      ],
      "metadata": {
        "dc": {
          "key": "59"
        },
        "run_control": {
          "frozen": true
        },
        "tags": [
          "context"
        ],
        "id": "374a6faa-38ca-4387-8952-621bae0579f8"
      },
      "id": "374a6faa-38ca-4387-8952-621bae0579f8",
      "cell_type": "markdown"
    },
    {
      "source": [
        "# Instanciar um classificador LogisticRegression com valores de parâmetro padrão\n",
        "logreg = LogisticRegression()\n",
        "\n",
        "# Ajustar logreg ao conjunto de treino\n",
        "logreg.fit(rescaledX_treino,y_treino)"
      ],
      "metadata": {
        "dc": {
          "key": "59"
        },
        "tags": [
          "sample_code"
        ],
        "trusted": true,
        "executionCancelledAt": null,
        "executionTime": 184,
        "lastExecutedAt": 1691780217026,
        "lastScheduledRunId": null,
        "lastSuccessfullyExecutedCode": "# Instanciar um classificador LogisticRegression com valores de parâmetro padrão\nlogreg = LogisticRegression()\n\n# Ajustar logreg ao conjunto de treino\nlogreg.fit(rescaledX_train,y_train)",
        "colab": {
          "base_uri": "https://localhost:8080/",
          "height": 129
        },
        "id": "a77511ed-789d-40c5-9859-6f452100a2d5",
        "outputId": "e36c7234-4006-41a1-9ddd-26ee77439930"
      },
      "id": "a77511ed-789d-40c5-9859-6f452100a2d5",
      "cell_type": "code",
      "execution_count": null,
      "outputs": [
        {
          "output_type": "stream",
          "name": "stderr",
          "text": [
            "/usr/local/lib/python3.10/dist-packages/sklearn/utils/validation.py:1143: DataConversionWarning: A column-vector y was passed when a 1d array was expected. Please change the shape of y to (n_samples, ), for example using ravel().\n",
            "  y = column_or_1d(y, warn=True)\n"
          ]
        },
        {
          "output_type": "execute_result",
          "data": {
            "text/plain": [
              "LogisticRegression()"
            ],
            "text/html": [
              "<style>#sk-container-id-2 {color: black;background-color: white;}#sk-container-id-2 pre{padding: 0;}#sk-container-id-2 div.sk-toggleable {background-color: white;}#sk-container-id-2 label.sk-toggleable__label {cursor: pointer;display: block;width: 100%;margin-bottom: 0;padding: 0.3em;box-sizing: border-box;text-align: center;}#sk-container-id-2 label.sk-toggleable__label-arrow:before {content: \"▸\";float: left;margin-right: 0.25em;color: #696969;}#sk-container-id-2 label.sk-toggleable__label-arrow:hover:before {color: black;}#sk-container-id-2 div.sk-estimator:hover label.sk-toggleable__label-arrow:before {color: black;}#sk-container-id-2 div.sk-toggleable__content {max-height: 0;max-width: 0;overflow: hidden;text-align: left;background-color: #f0f8ff;}#sk-container-id-2 div.sk-toggleable__content pre {margin: 0.2em;color: black;border-radius: 0.25em;background-color: #f0f8ff;}#sk-container-id-2 input.sk-toggleable__control:checked~div.sk-toggleable__content {max-height: 200px;max-width: 100%;overflow: auto;}#sk-container-id-2 input.sk-toggleable__control:checked~label.sk-toggleable__label-arrow:before {content: \"▾\";}#sk-container-id-2 div.sk-estimator input.sk-toggleable__control:checked~label.sk-toggleable__label {background-color: #d4ebff;}#sk-container-id-2 div.sk-label input.sk-toggleable__control:checked~label.sk-toggleable__label {background-color: #d4ebff;}#sk-container-id-2 input.sk-hidden--visually {border: 0;clip: rect(1px 1px 1px 1px);clip: rect(1px, 1px, 1px, 1px);height: 1px;margin: -1px;overflow: hidden;padding: 0;position: absolute;width: 1px;}#sk-container-id-2 div.sk-estimator {font-family: monospace;background-color: #f0f8ff;border: 1px dotted black;border-radius: 0.25em;box-sizing: border-box;margin-bottom: 0.5em;}#sk-container-id-2 div.sk-estimator:hover {background-color: #d4ebff;}#sk-container-id-2 div.sk-parallel-item::after {content: \"\";width: 100%;border-bottom: 1px solid gray;flex-grow: 1;}#sk-container-id-2 div.sk-label:hover label.sk-toggleable__label {background-color: #d4ebff;}#sk-container-id-2 div.sk-serial::before {content: \"\";position: absolute;border-left: 1px solid gray;box-sizing: border-box;top: 0;bottom: 0;left: 50%;z-index: 0;}#sk-container-id-2 div.sk-serial {display: flex;flex-direction: column;align-items: center;background-color: white;padding-right: 0.2em;padding-left: 0.2em;position: relative;}#sk-container-id-2 div.sk-item {position: relative;z-index: 1;}#sk-container-id-2 div.sk-parallel {display: flex;align-items: stretch;justify-content: center;background-color: white;position: relative;}#sk-container-id-2 div.sk-item::before, #sk-container-id-2 div.sk-parallel-item::before {content: \"\";position: absolute;border-left: 1px solid gray;box-sizing: border-box;top: 0;bottom: 0;left: 50%;z-index: -1;}#sk-container-id-2 div.sk-parallel-item {display: flex;flex-direction: column;z-index: 1;position: relative;background-color: white;}#sk-container-id-2 div.sk-parallel-item:first-child::after {align-self: flex-end;width: 50%;}#sk-container-id-2 div.sk-parallel-item:last-child::after {align-self: flex-start;width: 50%;}#sk-container-id-2 div.sk-parallel-item:only-child::after {width: 0;}#sk-container-id-2 div.sk-dashed-wrapped {border: 1px dashed gray;margin: 0 0.4em 0.5em 0.4em;box-sizing: border-box;padding-bottom: 0.4em;background-color: white;}#sk-container-id-2 div.sk-label label {font-family: monospace;font-weight: bold;display: inline-block;line-height: 1.2em;}#sk-container-id-2 div.sk-label-container {text-align: center;}#sk-container-id-2 div.sk-container {/* jupyter's `normalize.less` sets `[hidden] { display: none; }` but bootstrap.min.css set `[hidden] { display: none !important; }` so we also need the `!important` here to be able to override the default hidden behavior on the sphinx rendered scikit-learn.org. See: https://github.com/scikit-learn/scikit-learn/issues/21755 */display: inline-block !important;position: relative;}#sk-container-id-2 div.sk-text-repr-fallback {display: none;}</style><div id=\"sk-container-id-2\" class=\"sk-top-container\"><div class=\"sk-text-repr-fallback\"><pre>LogisticRegression()</pre><b>In a Jupyter environment, please rerun this cell to show the HTML representation or trust the notebook. <br />On GitHub, the HTML representation is unable to render, please try loading this page with nbviewer.org.</b></div><div class=\"sk-container\" hidden><div class=\"sk-item\"><div class=\"sk-estimator sk-toggleable\"><input class=\"sk-toggleable__control sk-hidden--visually\" id=\"sk-estimator-id-2\" type=\"checkbox\" checked><label for=\"sk-estimator-id-2\" class=\"sk-toggleable__label sk-toggleable__label-arrow\">LogisticRegression</label><div class=\"sk-toggleable__content\"><pre>LogisticRegression()</pre></div></div></div></div></div>"
            ]
          },
          "metadata": {},
          "execution_count": 29
        }
      ]
    },
    {
      "source": [
        "## 10. Fazendo previsões e avaliando o desempenho\n",
        "<p>Mas qual é o desempenho do nosso modelo? </p>\n",
        "<p>Vamos agora avaliar nosso modelo no conjunto de teste com relação à <a href=\"https://developers.google.com/machine-learning/crash-course/classification/accuracy\">precisão de classificação</a> . Mas também vamos dar uma olhada na <a href=\"http://www.dataschool.io/simple-guide-to-confusion-matrix-terminology/\">matriz de confusão</a> do modelo. No caso de prever pedidos de cartão de crédito, é importante ver se nosso modelo de aprendizado de máquina é igualmente capaz de prever status aprovado e negado, de acordo com a frequência desses rótulos em nosso conjunto de dados original. Se o nosso modelo não estiver tendo um bom desempenho nesse aspecto, ele pode acabar aprovando um pedido que deveria não ter sido aprovado. A matriz de confusão nos ajuda a visualizar o desempenho do nosso modelo, a partir desses aspectos. </p>"
      ],
      "metadata": {
        "dc": {
          "key": "66"
        },
        "run_control": {
          "frozen": true
        },
        "tags": [
          "context"
        ],
        "id": "7d583583-a830-4054-a427-9cb572908138"
      },
      "id": "7d583583-a830-4054-a427-9cb572908138",
      "cell_type": "markdown"
    },
    {
      "source": [
        "# Usar logreg para prever instâncias do conjunto de teste e armazenar\n",
        "y_pred = logreg.predict(rescaledX_teste)\n",
        "\n",
        "# Obter a pontuação de precisão do modelo logreg e imprimir\n",
        "print(\"Acurácia do classificador de regressão logística: \", logreg.score(rescaledX_teste,y_teste))\n",
        "\n",
        "# Imprimir a matriz de confusão do modelo logreg\n",
        "confusion_matrix(y_teste,y_pred)"
      ],
      "metadata": {
        "dc": {
          "key": "66"
        },
        "tags": [
          "sample_code"
        ],
        "collapsed": true,
        "jupyter": {
          "outputs_hidden": true
        },
        "executionCancelledAt": null,
        "executionTime": 102,
        "lastExecutedAt": 1691780217128,
        "lastScheduledRunId": null,
        "lastSuccessfullyExecutedCode": "# Usar logreg para prever instâncias do conjunto de teste e armazenar\ny_pred = logreg.predict(rescaledX_test)\n\n# Obter a pontuação de precisão do modelo logreg e imprimir\nprint(\"Accuracy of logistic regression classifier: \", logreg.score(rescaledX_test,y_test))\n\n# Imprimir a matriz de confusão do modelo logreg\nconfusion_matrix(y_test,y_pred)",
        "colab": {
          "base_uri": "https://localhost:8080/"
        },
        "id": "1d4f0235-4586-4192-8bf6-30a85d0b62cc",
        "outputId": "a7978ca6-3db1-4064-c987-6d2eb682399e"
      },
      "id": "1d4f0235-4586-4192-8bf6-30a85d0b62cc",
      "cell_type": "code",
      "execution_count": null,
      "outputs": [
        {
          "output_type": "stream",
          "name": "stdout",
          "text": [
            "Acurácia do classificador de regressão logística:  1.0\n"
          ]
        },
        {
          "output_type": "execute_result",
          "data": {
            "text/plain": [
              "array([[103,   0],\n",
              "       [  0, 125]])"
            ]
          },
          "metadata": {},
          "execution_count": 30
        }
      ]
    },
    {
      "source": [
        "## 11. Aplicando Grid Search e fazendo o modelo funcionar melhor\n",
        "<p>Nosso modelo ficou muito bom! Na verdade, foi capaz de produzir uma pontuação de precisão de 100%.</p>\n",
        "<p>Para a matriz de confusão, o primeiro elemento da primeira linha da matriz indica os verdadeiros negativos, significando o número de instâncias negativas (solicitaações negadas) previstas pelo modelo corretamente. E o último elemento da segunda linha da matriz indica os verdadeiros positivos, ou seja, o número de instâncias positivas (solicitações aprovadas) previstas pelo modelo corretamente.</p>\n",
        "<p>Mas se não tivéssemos uma pontuação perfeita, o que fazer? Podemos realizar um <a href=\"https://machinelearningmastery.com/how-to-tune-algorithm-parameters-with-scikit-learn/\">grid search</a> dos parâmetros do modelo para melhorar a capacidade do modelo em prever as solicitações de cartão de crédito.</p>\n",
        "<p><a href=\"http://scikit-learn.org/stable/modules/generated/sklearn.linear_model.LogisticRegression.html\">A implementação de regressão logística do scikit-learn</a> consiste em diferentes hiperparâmetros, mas vamos aplicar o Grid Search nos dois seguintes:</p>\n",
        "<ul>\n",
        "<li>tol</li>\n",
        "<li>max_iter</li>\n",
        "</ul>"
      ],
      "metadata": {
        "dc": {
          "key": "73"
        },
        "run_control": {
          "frozen": true
        },
        "tags": [
          "context"
        ],
        "id": "1dbc3896-50aa-4fac-85f3-11d672580877"
      },
      "id": "1dbc3896-50aa-4fac-85f3-11d672580877",
      "cell_type": "markdown"
    },
    {
      "source": [
        "# Definir a grade de valores para tol e max_iter\n",
        "tol = [0.01, 0.001 ,0.0001]\n",
        "max_iter = [100, 150, 200]\n",
        "\n",
        "# Criar um dicionário onde tol e max_iter são chaves e as listas de seus valores são os valores correspondentes\n",
        "param_grid = dict(tol=tol, max_iter=max_iter)"
      ],
      "metadata": {
        "dc": {
          "key": "73"
        },
        "tags": [
          "sample_code"
        ],
        "collapsed": true,
        "jupyter": {
          "outputs_hidden": true
        },
        "executionCancelledAt": null,
        "executionTime": 45,
        "lastExecutedAt": 1691780217173,
        "lastScheduledRunId": null,
        "lastSuccessfullyExecutedCode": "# Definir a grade de valores para tol e max_iter\ntol = [0.01, 0.001 ,0.0001]\nmax_iter = [100, 150, 200]\n\n# Criar um dicionário onde tol e max_iter são chaves e as listas de seus valores são os valores correspondentes\nparam_grid = dict(tol=tol, max_iter=max_iter)",
        "id": "875c9c40-f401-4757-91bf-d1b75f17bc2b"
      },
      "id": "875c9c40-f401-4757-91bf-d1b75f17bc2b",
      "cell_type": "code",
      "execution_count": null,
      "outputs": []
    },
    {
      "source": [
        "## 12. Encontrar o modelo de melhor desempenho\n",
        "<p>Definimos a grade de valores de hiperparâmetros e os convertemos em um único formato de dicionário que <code>GridSearchCV()</code> espera como um de seus parâmetros. Agora, iniciaremos o grid search para ver quais valores funcionam melhor.</p>\n",
        "<p>Instanciaremos <code>GridSearchCV()</code> com nosso modelo <code>logreg</code> anterior com todos os dados que temos. Também instruiremos <code>GridSearchCV()</code> a realizar uma <a href=\"https://www.dataschool.io/machine-learning-with-scikit-learn/\">validação cruzada</a > de cinco dobras.</p>\n",
        "<p>Finalizaremos o notebook armazenando a melhor pontuação alcançada e os respectivos melhores parâmetros.</p>"
      ],
      "metadata": {
        "dc": {
          "key": "80"
        },
        "run_control": {
          "frozen": true
        },
        "tags": [
          "context"
        ],
        "id": "dd973aed-f558-4978-9bb6-f2e44ee63f39"
      },
      "id": "dd973aed-f558-4978-9bb6-f2e44ee63f39",
      "cell_type": "markdown"
    },
    {
      "cell_type": "code",
      "source": [
        "# Instanciar GridSearchCV com os parâmetros necessários\n",
        "grid_model = GridSearchCV(estimator=logreg, param_grid=param_grid, cv=5)\n",
        "\n",
        "# Ajustar grid_model aos dados\n",
        "grid_model_result = grid_model.fit(rescaledX_treino, y_treino.ravel())"
      ],
      "metadata": {
        "id": "EdriUAY4AHBk"
      },
      "id": "EdriUAY4AHBk",
      "execution_count": null,
      "outputs": []
    },
    {
      "source": [
        "# Resultados\n",
        "best_score, best_params = grid_model_result.best_score_, grid_model_result.best_params_\n",
        "print(\"Melhor score: %f com os parâmetros %s\" % (best_score, best_params))\n",
        "\n",
        "# Extrair o melhor modelo e avaliar no conjunto de teste\n",
        "best_model = grid_model_result.best_estimator_\n",
        "print(\"Acurácia do classificador de regressão logística: \", best_model.score(rescaledX_teste,y_teste))"
      ],
      "metadata": {
        "dc": {
          "key": "80"
        },
        "tags": [
          "sample_code"
        ],
        "jupyter": {
          "outputs_hidden": true
        },
        "executionCancelledAt": null,
        "executionTime": 3552,
        "lastExecutedAt": 1691780220726,
        "lastScheduledRunId": null,
        "lastSuccessfullyExecutedCode": "# Instanciar GridSearchCV com os parâmetros necessários\ngrid_model = GridSearchCV(estimator=logreg, param_grid=param_grid, cv=5)\n\n# Ajustar grid_model aos dados\ngrid_model_result = grid_model.fit(rescaledX_train, y_train)\n\n# Resultados\nbest_score, best_params = grid_model_result.best_score_, grid_model_result.best_params_\nprint(\"Best: %f using %s\" % (best_score, best_params))\n\n# Extrair o melhor modelo e avaliar no conjunto de teste\nbest_model = grid_model_result.best_estimator_\nprint(\"Accuracy of logistic regression classifier: \", best_model.score(rescaledX_test,y_test))",
        "colab": {
          "base_uri": "https://localhost:8080/"
        },
        "id": "eb297ce9-b4e5-4cd9-9339-a24e3de4943c",
        "outputId": "db7c6cfe-99d7-4ddf-f5fd-410e33b0d3db"
      },
      "id": "eb297ce9-b4e5-4cd9-9339-a24e3de4943c",
      "cell_type": "code",
      "execution_count": null,
      "outputs": [
        {
          "output_type": "stream",
          "name": "stdout",
          "text": [
            "Melhor score: 1.000000 com os parâmetros {'max_iter': 100, 'tol': 0.01}\n",
            "Acurácia do classificador de regressão logística:  1.0\n"
          ]
        }
      ]
    },
    {
      "cell_type": "markdown",
      "source": [
        "<p><strong>Revisando:</strong> Ao criar esse preditor de cartão de crédito, abordamos algumas das etapas de pré-processamento mais conhecidas, como dimensionamento, codificação de rótulo e imputação de valor ausente. Terminamos com um pouco de aprendizado de máquina para prever se o pedido de cartão de crédito de uma pessoa seria aprovado ou não receberia algumas informações sobre essa pessoa.</p>\n",
        "\n",
        "<p><strong>Próximos passos:</strong> No mundo real, o desenvolvimento desse modelo baseado em regressão logística servia como um baseline para a construção de modelos mais robustos. Desta forma, como próximos passos, fica a criação de um pipeline com modelos (individuais ou ensemble) para avaliação de suas respectivas previsões."
      ],
      "metadata": {
        "id": "Sdi0C5cSGnjk"
      },
      "id": "Sdi0C5cSGnjk"
    }
  ],
  "metadata": {
    "kernelspec": {
      "display_name": "Python 3 (ipykernel)",
      "language": "python",
      "name": "python3"
    },
    "language_info": {
      "name": "python",
      "version": "3.8.10",
      "mimetype": "text/x-python",
      "codemirror_mode": {
        "name": "ipython",
        "version": 3
      },
      "pygments_lexer": "ipython3",
      "nbconvert_exporter": "python",
      "file_extension": ".py"
    },
    "editor": "DataCamp Workspace",
    "colab": {
      "provenance": []
    }
  },
  "nbformat": 4,
  "nbformat_minor": 5
}